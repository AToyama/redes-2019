{
 "cells": [
  {
   "cell_type": "markdown",
   "metadata": {},
   "source": [
    "# Aula 2: Exemplos"
   ]
  },
  {
   "cell_type": "code",
   "execution_count": 2,
   "metadata": {},
   "outputs": [
    {
     "data": {
      "text/html": [
       "<script type=\"text/javascript\">window.PlotlyConfig = {MathJaxConfig: 'local'};</script><script type=\"text/javascript\">if (window.MathJax) {MathJax.Hub.Config({SVG: {font: \"STIX-Web\"}});}</script><script>requirejs.config({paths: { 'plotly': ['https://cdn.plot.ly/plotly-latest.min']},});if(!window._Plotly) {require(['plotly'],function(plotly) {window._Plotly=plotly;});}</script>"
      ],
      "text/vnd.plotly.v1+html": [
       "<script type=\"text/javascript\">window.PlotlyConfig = {MathJaxConfig: 'local'};</script><script type=\"text/javascript\">if (window.MathJax) {MathJax.Hub.Config({SVG: {font: \"STIX-Web\"}});}</script><script>requirejs.config({paths: { 'plotly': ['https://cdn.plot.ly/plotly-latest.min']},});if(!window._Plotly) {require(['plotly'],function(plotly) {window._Plotly=plotly;});}</script>"
      ]
     },
     "metadata": {},
     "output_type": "display_data"
    }
   ],
   "source": [
    "import networkx as nx\n",
    "import socnet as sn"
   ]
  },
  {
   "cell_type": "markdown",
   "metadata": {},
   "source": [
    "Configurando o módulo"
   ]
  },
  {
   "cell_type": "code",
   "execution_count": 3,
   "metadata": {},
   "outputs": [],
   "source": [
    "graph_width = 800\n",
    "graph_height = 450\n",
    "\n",
    "node_size = 20\n",
    "node_color = (255, 255, 255)\n",
    "\n",
    "edge_width = 2\n",
    "edge_color = (0, 0, 0)\n",
    "\n",
    "node_label_position = 'middle center'\n",
    "edge_label_distance = 10"
   ]
  },
  {
   "cell_type": "markdown",
   "metadata": {},
   "source": [
    "Carregando um grafo"
   ]
  },
  {
   "cell_type": "code",
   "execution_count": 4,
   "metadata": {},
   "outputs": [],
   "source": [
    "ug = sn.load_graph('ug.gml') # não-dirigido\n",
    "dg = sn.load_graph('dg.gml') # dirigido"
   ]
  },
  {
   "cell_type": "markdown",
   "metadata": {},
   "source": [
    "Mostrando um grafo"
   ]
  },
  {
   "cell_type": "code",
   "execution_count": 5,
   "metadata": {},
   "outputs": [
    {
     "data": {
      "application/vnd.plotly.v1+json": {
       "config": {
        "displayModeBar": false,
        "linkText": "Export to plot.ly",
        "plotlyServerURL": "https://plot.ly",
        "showLink": false
       },
       "data": [
        {
         "hoverinfo": "none",
         "line": {
          "color": "rgb(0, 0, 0)",
          "width": 2
         },
         "mode": "lines",
         "type": "scatter",
         "uid": "f6607918-d40e-4d59-8cd4-8eab9423aaf0",
         "x": [
          0.09451030155112558,
          0,
          null,
          0.09451030155112558,
          0.38381807360785947,
          null,
          0,
          0.272311708343691,
          null,
          0.272311708343691,
          0.5539151074919973,
          null,
          0.272311708343691,
          0.38381807360785947,
          null,
          0.5539151074919973,
          0.705780495778137,
          null,
          0.38381807360785947,
          0.705780495778137,
          null,
          0.705780495778137,
          1,
          null
         ],
         "y": [
          0,
          0.5963066431548305,
          null,
          0,
          0.20528886356881806,
          null,
          0.5963066431548305,
          0.8256882480393886,
          null,
          0.8256882480393886,
          1,
          null,
          0.8256882480393886,
          0.20528886356881806,
          null,
          1,
          0.3992928090005387,
          null,
          0.20528886356881806,
          0.3992928090005387,
          null,
          0.3992928090005387,
          0.23333896396853482,
          null
         ]
        },
        {
         "hoverinfo": "none",
         "marker": {
          "color": "rgb(255, 255, 255)",
          "line": {
           "color": "rgb(0, 0, 0)",
           "width": 2
          },
          "size": 20
         },
         "mode": "markers+text",
         "text": [],
         "textfont": {
          "color": "rgb(0, 0, 0)"
         },
         "textposition": "middle center",
         "type": "scatter",
         "uid": "16d2902f-21a7-4133-8f88-64ad0d7bbd3d",
         "x": [
          0.09451030155112558,
          0,
          0.272311708343691,
          0.5539151074919973,
          0.38381807360785947,
          0.705780495778137,
          1
         ],
         "y": [
          0,
          0.5963066431548305,
          0.8256882480393886,
          1,
          0.20528886356881806,
          0.3992928090005387,
          0.23333896396853482
         ]
        }
       ],
       "layout": {
        "height": 450,
        "margin": {
         "b": 0,
         "l": 0,
         "r": 0,
         "t": 0
        },
        "showlegend": false,
        "width": 800,
        "xaxis": {
         "showgrid": false,
         "showticklabels": false,
         "zeroline": false
        },
        "yaxis": {
         "showgrid": false,
         "showticklabels": false,
         "zeroline": false
        }
       }
      },
      "text/html": [
       "<div id=\"1affaf5e-60c3-473e-a84e-d5a0be9388c9\" style=\"height: 450px; width: 800px;\" class=\"plotly-graph-div\"></div><script type=\"text/javascript\">require([\"plotly\"], function(Plotly) { window.PLOTLYENV=window.PLOTLYENV || {};window.PLOTLYENV.BASE_URL=\"https://plot.ly\";Plotly.newPlot(\"1affaf5e-60c3-473e-a84e-d5a0be9388c9\", [{\"hoverinfo\": \"none\", \"line\": {\"color\": \"rgb(0, 0, 0)\", \"width\": 2}, \"mode\": \"lines\", \"x\": [0.09451030155112558, 0.0, null, 0.09451030155112558, 0.38381807360785947, null, 0.0, 0.272311708343691, null, 0.272311708343691, 0.5539151074919973, null, 0.272311708343691, 0.38381807360785947, null, 0.5539151074919973, 0.705780495778137, null, 0.38381807360785947, 0.705780495778137, null, 0.705780495778137, 1.0, null], \"y\": [0.0, 0.5963066431548305, null, 0.0, 0.20528886356881806, null, 0.5963066431548305, 0.8256882480393886, null, 0.8256882480393886, 1.0, null, 0.8256882480393886, 0.20528886356881806, null, 1.0, 0.3992928090005387, null, 0.20528886356881806, 0.3992928090005387, null, 0.3992928090005387, 0.23333896396853482, null], \"type\": \"scatter\", \"uid\": \"9f63b215-1003-4457-8e61-9bbfe8a61e99\"}, {\"hoverinfo\": \"none\", \"marker\": {\"color\": \"rgb(255, 255, 255)\", \"line\": {\"color\": \"rgb(0, 0, 0)\", \"width\": 2}, \"size\": 20}, \"mode\": \"markers+text\", \"text\": [], \"textfont\": {\"color\": \"rgb(0, 0, 0)\"}, \"textposition\": \"middle center\", \"x\": [0.09451030155112558, 0.0, 0.272311708343691, 0.5539151074919973, 0.38381807360785947, 0.705780495778137, 1.0], \"y\": [0.0, 0.5963066431548305, 0.8256882480393886, 1.0, 0.20528886356881806, 0.3992928090005387, 0.23333896396853482], \"type\": \"scatter\", \"uid\": \"ce372060-0a90-4426-be3f-9c53f8789c34\"}], {\"height\": 450, \"margin\": {\"b\": 0, \"l\": 0, \"r\": 0, \"t\": 0}, \"showlegend\": false, \"width\": 800, \"xaxis\": {\"showgrid\": false, \"showticklabels\": false, \"zeroline\": false}, \"yaxis\": {\"showgrid\": false, \"showticklabels\": false, \"zeroline\": false}}, {\"displayModeBar\": false, \"showLink\": false, \"linkText\": \"Export to plot.ly\", \"plotlyServerURL\": \"https://plot.ly\"})});</script>"
      ],
      "text/vnd.plotly.v1+html": [
       "<div id=\"1affaf5e-60c3-473e-a84e-d5a0be9388c9\" style=\"height: 450px; width: 800px;\" class=\"plotly-graph-div\"></div><script type=\"text/javascript\">require([\"plotly\"], function(Plotly) { window.PLOTLYENV=window.PLOTLYENV || {};window.PLOTLYENV.BASE_URL=\"https://plot.ly\";Plotly.newPlot(\"1affaf5e-60c3-473e-a84e-d5a0be9388c9\", [{\"hoverinfo\": \"none\", \"line\": {\"color\": \"rgb(0, 0, 0)\", \"width\": 2}, \"mode\": \"lines\", \"x\": [0.09451030155112558, 0.0, null, 0.09451030155112558, 0.38381807360785947, null, 0.0, 0.272311708343691, null, 0.272311708343691, 0.5539151074919973, null, 0.272311708343691, 0.38381807360785947, null, 0.5539151074919973, 0.705780495778137, null, 0.38381807360785947, 0.705780495778137, null, 0.705780495778137, 1.0, null], \"y\": [0.0, 0.5963066431548305, null, 0.0, 0.20528886356881806, null, 0.5963066431548305, 0.8256882480393886, null, 0.8256882480393886, 1.0, null, 0.8256882480393886, 0.20528886356881806, null, 1.0, 0.3992928090005387, null, 0.20528886356881806, 0.3992928090005387, null, 0.3992928090005387, 0.23333896396853482, null], \"type\": \"scatter\", \"uid\": \"9f63b215-1003-4457-8e61-9bbfe8a61e99\"}, {\"hoverinfo\": \"none\", \"marker\": {\"color\": \"rgb(255, 255, 255)\", \"line\": {\"color\": \"rgb(0, 0, 0)\", \"width\": 2}, \"size\": 20}, \"mode\": \"markers+text\", \"text\": [], \"textfont\": {\"color\": \"rgb(0, 0, 0)\"}, \"textposition\": \"middle center\", \"x\": [0.09451030155112558, 0.0, 0.272311708343691, 0.5539151074919973, 0.38381807360785947, 0.705780495778137, 1.0], \"y\": [0.0, 0.5963066431548305, 0.8256882480393886, 1.0, 0.20528886356881806, 0.3992928090005387, 0.23333896396853482], \"type\": \"scatter\", \"uid\": \"ce372060-0a90-4426-be3f-9c53f8789c34\"}], {\"height\": 450, \"margin\": {\"b\": 0, \"l\": 0, \"r\": 0, \"t\": 0}, \"showlegend\": false, \"width\": 800, \"xaxis\": {\"showgrid\": false, \"showticklabels\": false, \"zeroline\": false}, \"yaxis\": {\"showgrid\": false, \"showticklabels\": false, \"zeroline\": false}}, {\"displayModeBar\": false, \"showLink\": false, \"linkText\": \"Export to plot.ly\", \"plotlyServerURL\": \"https://plot.ly\"})});</script>"
      ]
     },
     "metadata": {},
     "output_type": "display_data"
    },
    {
     "data": {
      "application/vnd.plotly.v1+json": {
       "config": {
        "displayModeBar": false,
        "linkText": "Export to plot.ly",
        "plotlyServerURL": "https://plot.ly",
        "showLink": false
       },
       "data": [
        {
         "hoverinfo": "none",
         "line": {
          "color": "rgb(0, 0, 0)",
          "width": 2
         },
         "mode": "lines",
         "type": "scatter",
         "uid": "c1dba279-7fa4-46ae-9cdb-956906385088",
         "x": [
          0.7615741527489798,
          1,
          null,
          0.9861572718475234,
          0.9721639372514301,
          null,
          0.9861572718475234,
          0.9758543327724121,
          null,
          0.7615741527489798,
          0.49287520965401554,
          null,
          0.5061395337682499,
          0.5151327132195022,
          null,
          0.5061395337682499,
          0.5204274333928257,
          null,
          1,
          0.6925670345846636,
          null,
          0.7055630643942562,
          0.7140308220425724,
          null,
          0.7055630643942562,
          0.7199054850153519,
          null,
          0.6925670345846636,
          0.44478230194166124,
          null,
          0.4575046006826265,
          0.4654685260877972,
          null,
          0.4575046006826265,
          0.47187041032191773,
          null,
          0.6925670345846636,
          0.49287520965401554,
          null,
          0.5057385222719735,
          0.5200958139126228,
          null,
          0.5057385222719735,
          0.5139584683146525,
          null,
          0.44478230194166124,
          0.15744711764464023,
          null,
          0.1717095602954323,
          0.18339331051323188,
          null,
          0.1717095602954323,
          0.18505875199822597,
          null,
          0.49287520965401554,
          0.15744711764464023,
          null,
          0.16873098659607608,
          0.17436936220136365,
          null,
          0.16873098659607608,
          0.18289766423566112,
          null,
          0.15744711764464023,
          0,
          null,
          0.009727163995170362,
          0.013193950433718182,
          null,
          0.009727163995170362,
          0.02333315655424134,
          null
         ],
         "y": [
          1,
          0.8789018071104474,
          null,
          0.8859326277335209,
          0.8799792783722148,
          null,
          0.8859326277335209,
          0.9042262282440039,
          null,
          1,
          0.7956583250857205,
          null,
          0.8057456524673938,
          0.826215023183736,
          null,
          0.8057456524673938,
          0.8029812069635233,
          null,
          0.8789018071104474,
          0.6141397205000215,
          null,
          0.6253319359001837,
          0.6465359646584113,
          null,
          0.6253319359001837,
          0.6237720932701624,
          null,
          0.6141397205000215,
          0.3765925431735831,
          null,
          0.3887892032453486,
          0.4106349811925294,
          null,
          0.3887892032453486,
          0.38835057768273984,
          null,
          0.6141397205000215,
          0.7956583250857205,
          null,
          0.7839656553553886,
          0.7849700741452154,
          null,
          0.7839656553553886,
          0.7624386704509966,
          null,
          0.3765925431735831,
          0.3126695092247708,
          null,
          0.3158424537703199,
          0.3311180358798182,
          null,
          0.3158424537703199,
          0.3061359132668596,
          null,
          0.7956583250857205,
          0.3126695092247708,
          null,
          0.32891735081292206,
          0.3530585967889847,
          null,
          0.32891735081292206,
          0.3332937497290968,
          null,
          0.3126695092247708,
          0,
          null,
          0.019316883268598293,
          0.044788102972785945,
          null,
          0.019316883268598293,
          0.02774998337759818,
          null
         ]
        },
        {
         "hoverinfo": "none",
         "marker": {
          "color": "rgb(255, 255, 255)",
          "line": {
           "color": "rgb(0, 0, 0)",
           "width": 2
          },
          "size": 20
         },
         "mode": "markers+text",
         "text": [],
         "textfont": {
          "color": "rgb(0, 0, 0)"
         },
         "textposition": "middle center",
         "type": "scatter",
         "uid": "233d5ce0-6241-4138-936e-d02d62a372cf",
         "x": [
          0.7615741527489798,
          1,
          0.6925670345846636,
          0.44478230194166124,
          0.49287520965401554,
          0.15744711764464023,
          0
         ],
         "y": [
          1,
          0.8789018071104474,
          0.6141397205000215,
          0.3765925431735831,
          0.7956583250857205,
          0.3126695092247708,
          0
         ]
        }
       ],
       "layout": {
        "height": 450,
        "margin": {
         "b": 0,
         "l": 0,
         "r": 0,
         "t": 0
        },
        "showlegend": false,
        "width": 800,
        "xaxis": {
         "showgrid": false,
         "showticklabels": false,
         "zeroline": false
        },
        "yaxis": {
         "showgrid": false,
         "showticklabels": false,
         "zeroline": false
        }
       }
      },
      "text/html": [
       "<div id=\"25ed8eee-69e4-4c08-bdfd-3b20591db5d3\" style=\"height: 450px; width: 800px;\" class=\"plotly-graph-div\"></div><script type=\"text/javascript\">require([\"plotly\"], function(Plotly) { window.PLOTLYENV=window.PLOTLYENV || {};window.PLOTLYENV.BASE_URL=\"https://plot.ly\";Plotly.newPlot(\"25ed8eee-69e4-4c08-bdfd-3b20591db5d3\", [{\"hoverinfo\": \"none\", \"line\": {\"color\": \"rgb(0, 0, 0)\", \"width\": 2}, \"mode\": \"lines\", \"x\": [0.7615741527489798, 1.0, null, 0.9861572718475234, 0.9721639372514301, null, 0.9861572718475234, 0.9758543327724121, null, 0.7615741527489798, 0.49287520965401554, null, 0.5061395337682499, 0.5151327132195022, null, 0.5061395337682499, 0.5204274333928257, null, 1.0, 0.6925670345846636, null, 0.7055630643942562, 0.7140308220425724, null, 0.7055630643942562, 0.7199054850153519, null, 0.6925670345846636, 0.44478230194166124, null, 0.4575046006826265, 0.4654685260877972, null, 0.4575046006826265, 0.47187041032191773, null, 0.6925670345846636, 0.49287520965401554, null, 0.5057385222719735, 0.5200958139126228, null, 0.5057385222719735, 0.5139584683146525, null, 0.44478230194166124, 0.15744711764464023, null, 0.1717095602954323, 0.18339331051323188, null, 0.1717095602954323, 0.18505875199822597, null, 0.49287520965401554, 0.15744711764464023, null, 0.16873098659607608, 0.17436936220136365, null, 0.16873098659607608, 0.18289766423566112, null, 0.15744711764464023, 0.0, null, 0.009727163995170362, 0.013193950433718182, null, 0.009727163995170362, 0.02333315655424134, null], \"y\": [1.0, 0.8789018071104474, null, 0.8859326277335209, 0.8799792783722148, null, 0.8859326277335209, 0.9042262282440039, null, 1.0, 0.7956583250857205, null, 0.8057456524673938, 0.826215023183736, null, 0.8057456524673938, 0.8029812069635233, null, 0.8789018071104474, 0.6141397205000215, null, 0.6253319359001837, 0.6465359646584113, null, 0.6253319359001837, 0.6237720932701624, null, 0.6141397205000215, 0.3765925431735831, null, 0.3887892032453486, 0.4106349811925294, null, 0.3887892032453486, 0.38835057768273984, null, 0.6141397205000215, 0.7956583250857205, null, 0.7839656553553886, 0.7849700741452154, null, 0.7839656553553886, 0.7624386704509966, null, 0.3765925431735831, 0.3126695092247708, null, 0.3158424537703199, 0.3311180358798182, null, 0.3158424537703199, 0.3061359132668596, null, 0.7956583250857205, 0.3126695092247708, null, 0.32891735081292206, 0.3530585967889847, null, 0.32891735081292206, 0.3332937497290968, null, 0.3126695092247708, 0.0, null, 0.019316883268598293, 0.044788102972785945, null, 0.019316883268598293, 0.02774998337759818, null], \"type\": \"scatter\", \"uid\": \"281e646c-2cb8-4729-9a55-1ba3f670ded4\"}, {\"hoverinfo\": \"none\", \"marker\": {\"color\": \"rgb(255, 255, 255)\", \"line\": {\"color\": \"rgb(0, 0, 0)\", \"width\": 2}, \"size\": 20}, \"mode\": \"markers+text\", \"text\": [], \"textfont\": {\"color\": \"rgb(0, 0, 0)\"}, \"textposition\": \"middle center\", \"x\": [0.7615741527489798, 1.0, 0.6925670345846636, 0.44478230194166124, 0.49287520965401554, 0.15744711764464023, 0.0], \"y\": [1.0, 0.8789018071104474, 0.6141397205000215, 0.3765925431735831, 0.7956583250857205, 0.3126695092247708, 0.0], \"type\": \"scatter\", \"uid\": \"89d8a4c1-36a3-40f2-8d38-61999c0483c2\"}], {\"height\": 450, \"margin\": {\"b\": 0, \"l\": 0, \"r\": 0, \"t\": 0}, \"showlegend\": false, \"width\": 800, \"xaxis\": {\"showgrid\": false, \"showticklabels\": false, \"zeroline\": false}, \"yaxis\": {\"showgrid\": false, \"showticklabels\": false, \"zeroline\": false}}, {\"displayModeBar\": false, \"showLink\": false, \"linkText\": \"Export to plot.ly\", \"plotlyServerURL\": \"https://plot.ly\"})});</script>"
      ],
      "text/vnd.plotly.v1+html": [
       "<div id=\"25ed8eee-69e4-4c08-bdfd-3b20591db5d3\" style=\"height: 450px; width: 800px;\" class=\"plotly-graph-div\"></div><script type=\"text/javascript\">require([\"plotly\"], function(Plotly) { window.PLOTLYENV=window.PLOTLYENV || {};window.PLOTLYENV.BASE_URL=\"https://plot.ly\";Plotly.newPlot(\"25ed8eee-69e4-4c08-bdfd-3b20591db5d3\", [{\"hoverinfo\": \"none\", \"line\": {\"color\": \"rgb(0, 0, 0)\", \"width\": 2}, \"mode\": \"lines\", \"x\": [0.7615741527489798, 1.0, null, 0.9861572718475234, 0.9721639372514301, null, 0.9861572718475234, 0.9758543327724121, null, 0.7615741527489798, 0.49287520965401554, null, 0.5061395337682499, 0.5151327132195022, null, 0.5061395337682499, 0.5204274333928257, null, 1.0, 0.6925670345846636, null, 0.7055630643942562, 0.7140308220425724, null, 0.7055630643942562, 0.7199054850153519, null, 0.6925670345846636, 0.44478230194166124, null, 0.4575046006826265, 0.4654685260877972, null, 0.4575046006826265, 0.47187041032191773, null, 0.6925670345846636, 0.49287520965401554, null, 0.5057385222719735, 0.5200958139126228, null, 0.5057385222719735, 0.5139584683146525, null, 0.44478230194166124, 0.15744711764464023, null, 0.1717095602954323, 0.18339331051323188, null, 0.1717095602954323, 0.18505875199822597, null, 0.49287520965401554, 0.15744711764464023, null, 0.16873098659607608, 0.17436936220136365, null, 0.16873098659607608, 0.18289766423566112, null, 0.15744711764464023, 0.0, null, 0.009727163995170362, 0.013193950433718182, null, 0.009727163995170362, 0.02333315655424134, null], \"y\": [1.0, 0.8789018071104474, null, 0.8859326277335209, 0.8799792783722148, null, 0.8859326277335209, 0.9042262282440039, null, 1.0, 0.7956583250857205, null, 0.8057456524673938, 0.826215023183736, null, 0.8057456524673938, 0.8029812069635233, null, 0.8789018071104474, 0.6141397205000215, null, 0.6253319359001837, 0.6465359646584113, null, 0.6253319359001837, 0.6237720932701624, null, 0.6141397205000215, 0.3765925431735831, null, 0.3887892032453486, 0.4106349811925294, null, 0.3887892032453486, 0.38835057768273984, null, 0.6141397205000215, 0.7956583250857205, null, 0.7839656553553886, 0.7849700741452154, null, 0.7839656553553886, 0.7624386704509966, null, 0.3765925431735831, 0.3126695092247708, null, 0.3158424537703199, 0.3311180358798182, null, 0.3158424537703199, 0.3061359132668596, null, 0.7956583250857205, 0.3126695092247708, null, 0.32891735081292206, 0.3530585967889847, null, 0.32891735081292206, 0.3332937497290968, null, 0.3126695092247708, 0.0, null, 0.019316883268598293, 0.044788102972785945, null, 0.019316883268598293, 0.02774998337759818, null], \"type\": \"scatter\", \"uid\": \"281e646c-2cb8-4729-9a55-1ba3f670ded4\"}, {\"hoverinfo\": \"none\", \"marker\": {\"color\": \"rgb(255, 255, 255)\", \"line\": {\"color\": \"rgb(0, 0, 0)\", \"width\": 2}, \"size\": 20}, \"mode\": \"markers+text\", \"text\": [], \"textfont\": {\"color\": \"rgb(0, 0, 0)\"}, \"textposition\": \"middle center\", \"x\": [0.7615741527489798, 1.0, 0.6925670345846636, 0.44478230194166124, 0.49287520965401554, 0.15744711764464023, 0.0], \"y\": [1.0, 0.8789018071104474, 0.6141397205000215, 0.3765925431735831, 0.7956583250857205, 0.3126695092247708, 0.0], \"type\": \"scatter\", \"uid\": \"89d8a4c1-36a3-40f2-8d38-61999c0483c2\"}], {\"height\": 450, \"margin\": {\"b\": 0, \"l\": 0, \"r\": 0, \"t\": 0}, \"showlegend\": false, \"width\": 800, \"xaxis\": {\"showgrid\": false, \"showticklabels\": false, \"zeroline\": false}, \"yaxis\": {\"showgrid\": false, \"showticklabels\": false, \"zeroline\": false}}, {\"displayModeBar\": false, \"showLink\": false, \"linkText\": \"Export to plot.ly\", \"plotlyServerURL\": \"https://plot.ly\"})});</script>"
      ]
     },
     "metadata": {},
     "output_type": "display_data"
    }
   ],
   "source": [
    "sn.show_graph(ug)\n",
    "sn.show_graph(dg)"
   ]
  },
  {
   "cell_type": "markdown",
   "metadata": {},
   "source": [
    "Mudando a cor de um nó ou aresta. (também é exemplo de iteração)"
   ]
  },
  {
   "cell_type": "code",
   "execution_count": 6,
   "metadata": {},
   "outputs": [
    {
     "data": {
      "application/vnd.plotly.v1+json": {
       "config": {
        "displayModeBar": false,
        "linkText": "Export to plot.ly",
        "plotlyServerURL": "https://plot.ly",
        "showLink": false
       },
       "data": [
        {
         "hoverinfo": "none",
         "line": {
          "color": "rgb(0, 255, 0)",
          "width": 2
         },
         "mode": "lines",
         "type": "scatter",
         "uid": "f69c4ce5-c4f5-430a-8e22-34c61c87f796",
         "x": [
          0.09451030155112558,
          0,
          null,
          0.09451030155112558,
          0.38381807360785947,
          null,
          0,
          0.272311708343691,
          null,
          0.272311708343691,
          0.5539151074919973,
          null,
          0.272311708343691,
          0.38381807360785947,
          null,
          0.5539151074919973,
          0.705780495778137,
          null,
          0.38381807360785947,
          0.705780495778137,
          null,
          0.705780495778137,
          1,
          null
         ],
         "y": [
          0,
          0.5963066431548305,
          null,
          0,
          0.20528886356881806,
          null,
          0.5963066431548305,
          0.8256882480393886,
          null,
          0.8256882480393886,
          1,
          null,
          0.8256882480393886,
          0.20528886356881806,
          null,
          1,
          0.3992928090005387,
          null,
          0.20528886356881806,
          0.3992928090005387,
          null,
          0.3992928090005387,
          0.23333896396853482,
          null
         ]
        },
        {
         "hoverinfo": "none",
         "marker": {
          "color": "rgb(255, 0, 0)",
          "line": {
           "color": "rgb(0, 0, 0)",
           "width": 2
          },
          "size": 20
         },
         "mode": "markers+text",
         "text": [],
         "textfont": {
          "color": "rgb(255, 255, 255)"
         },
         "textposition": "middle center",
         "type": "scatter",
         "uid": "d7d0a91d-17d4-4e1b-a15a-979a69327207",
         "x": [
          0.09451030155112558,
          0,
          0.272311708343691,
          0.5539151074919973,
          0.38381807360785947,
          0.705780495778137,
          1
         ],
         "y": [
          0,
          0.5963066431548305,
          0.8256882480393886,
          1,
          0.20528886356881806,
          0.3992928090005387,
          0.23333896396853482
         ]
        }
       ],
       "layout": {
        "height": 450,
        "margin": {
         "b": 0,
         "l": 0,
         "r": 0,
         "t": 0
        },
        "showlegend": false,
        "width": 800,
        "xaxis": {
         "showgrid": false,
         "showticklabels": false,
         "zeroline": false
        },
        "yaxis": {
         "showgrid": false,
         "showticklabels": false,
         "zeroline": false
        }
       }
      },
      "text/html": [
       "<div id=\"8c400608-2f27-4775-9535-beeca36ec0f7\" style=\"height: 450px; width: 800px;\" class=\"plotly-graph-div\"></div><script type=\"text/javascript\">require([\"plotly\"], function(Plotly) { window.PLOTLYENV=window.PLOTLYENV || {};window.PLOTLYENV.BASE_URL=\"https://plot.ly\";Plotly.newPlot(\"8c400608-2f27-4775-9535-beeca36ec0f7\", [{\"hoverinfo\": \"none\", \"line\": {\"color\": \"rgb(0, 255, 0)\", \"width\": 2}, \"mode\": \"lines\", \"x\": [0.09451030155112558, 0.0, null, 0.09451030155112558, 0.38381807360785947, null, 0.0, 0.272311708343691, null, 0.272311708343691, 0.5539151074919973, null, 0.272311708343691, 0.38381807360785947, null, 0.5539151074919973, 0.705780495778137, null, 0.38381807360785947, 0.705780495778137, null, 0.705780495778137, 1.0, null], \"y\": [0.0, 0.5963066431548305, null, 0.0, 0.20528886356881806, null, 0.5963066431548305, 0.8256882480393886, null, 0.8256882480393886, 1.0, null, 0.8256882480393886, 0.20528886356881806, null, 1.0, 0.3992928090005387, null, 0.20528886356881806, 0.3992928090005387, null, 0.3992928090005387, 0.23333896396853482, null], \"type\": \"scatter\", \"uid\": \"c4072a53-b8ad-447e-9667-684523bdc8d2\"}, {\"hoverinfo\": \"none\", \"marker\": {\"color\": \"rgb(255, 0, 0)\", \"line\": {\"color\": \"rgb(0, 0, 0)\", \"width\": 2}, \"size\": 20}, \"mode\": \"markers+text\", \"text\": [], \"textfont\": {\"color\": \"rgb(255, 255, 255)\"}, \"textposition\": \"middle center\", \"x\": [0.09451030155112558, 0.0, 0.272311708343691, 0.5539151074919973, 0.38381807360785947, 0.705780495778137, 1.0], \"y\": [0.0, 0.5963066431548305, 0.8256882480393886, 1.0, 0.20528886356881806, 0.3992928090005387, 0.23333896396853482], \"type\": \"scatter\", \"uid\": \"8dc10a33-7f77-49a4-81e5-36bd220d536f\"}], {\"height\": 450, \"margin\": {\"b\": 0, \"l\": 0, \"r\": 0, \"t\": 0}, \"showlegend\": false, \"width\": 800, \"xaxis\": {\"showgrid\": false, \"showticklabels\": false, \"zeroline\": false}, \"yaxis\": {\"showgrid\": false, \"showticklabels\": false, \"zeroline\": false}}, {\"displayModeBar\": false, \"showLink\": false, \"linkText\": \"Export to plot.ly\", \"plotlyServerURL\": \"https://plot.ly\"})});</script>"
      ],
      "text/vnd.plotly.v1+html": [
       "<div id=\"8c400608-2f27-4775-9535-beeca36ec0f7\" style=\"height: 450px; width: 800px;\" class=\"plotly-graph-div\"></div><script type=\"text/javascript\">require([\"plotly\"], function(Plotly) { window.PLOTLYENV=window.PLOTLYENV || {};window.PLOTLYENV.BASE_URL=\"https://plot.ly\";Plotly.newPlot(\"8c400608-2f27-4775-9535-beeca36ec0f7\", [{\"hoverinfo\": \"none\", \"line\": {\"color\": \"rgb(0, 255, 0)\", \"width\": 2}, \"mode\": \"lines\", \"x\": [0.09451030155112558, 0.0, null, 0.09451030155112558, 0.38381807360785947, null, 0.0, 0.272311708343691, null, 0.272311708343691, 0.5539151074919973, null, 0.272311708343691, 0.38381807360785947, null, 0.5539151074919973, 0.705780495778137, null, 0.38381807360785947, 0.705780495778137, null, 0.705780495778137, 1.0, null], \"y\": [0.0, 0.5963066431548305, null, 0.0, 0.20528886356881806, null, 0.5963066431548305, 0.8256882480393886, null, 0.8256882480393886, 1.0, null, 0.8256882480393886, 0.20528886356881806, null, 1.0, 0.3992928090005387, null, 0.20528886356881806, 0.3992928090005387, null, 0.3992928090005387, 0.23333896396853482, null], \"type\": \"scatter\", \"uid\": \"c4072a53-b8ad-447e-9667-684523bdc8d2\"}, {\"hoverinfo\": \"none\", \"marker\": {\"color\": \"rgb(255, 0, 0)\", \"line\": {\"color\": \"rgb(0, 0, 0)\", \"width\": 2}, \"size\": 20}, \"mode\": \"markers+text\", \"text\": [], \"textfont\": {\"color\": \"rgb(255, 255, 255)\"}, \"textposition\": \"middle center\", \"x\": [0.09451030155112558, 0.0, 0.272311708343691, 0.5539151074919973, 0.38381807360785947, 0.705780495778137, 1.0], \"y\": [0.0, 0.5963066431548305, 0.8256882480393886, 1.0, 0.20528886356881806, 0.3992928090005387, 0.23333896396853482], \"type\": \"scatter\", \"uid\": \"8dc10a33-7f77-49a4-81e5-36bd220d536f\"}], {\"height\": 450, \"margin\": {\"b\": 0, \"l\": 0, \"r\": 0, \"t\": 0}, \"showlegend\": false, \"width\": 800, \"xaxis\": {\"showgrid\": false, \"showticklabels\": false, \"zeroline\": false}, \"yaxis\": {\"showgrid\": false, \"showticklabels\": false, \"zeroline\": false}}, {\"displayModeBar\": false, \"showLink\": false, \"linkText\": \"Export to plot.ly\", \"plotlyServerURL\": \"https://plot.ly\"})});</script>"
      ]
     },
     "metadata": {},
     "output_type": "display_data"
    }
   ],
   "source": [
    "for n in ug.nodes:\n",
    "    ug.nodes[n]['color'] = (255, 0, 0)\n",
    "\n",
    "for n, m in ug.edges:\n",
    "    ug.edges[n, m]['color'] = (0, 255, 0)\n",
    "\n",
    "sn.show_graph(ug)"
   ]
  },
  {
   "cell_type": "markdown",
   "metadata": {},
   "source": [
    "Um grafo não-dirigido é *conexo* se de qualquer nó você chega em qualquer outro nó andando por arestas.\n",
    "\n",
    "(tente adivinhar se vai imprimir True ou False antes de rodar)"
   ]
  },
  {
   "cell_type": "code",
   "execution_count": 7,
   "metadata": {},
   "outputs": [
    {
     "data": {
      "text/plain": [
       "True"
      ]
     },
     "execution_count": 7,
     "metadata": {},
     "output_type": "execute_result"
    }
   ],
   "source": [
    "nx.is_connected(ug)"
   ]
  },
  {
   "cell_type": "markdown",
   "metadata": {},
   "source": [
    "Um grafo dirigido é *fracamente conexo* se de qualquer nó você chega em qualquer outro nó andando por arestas **sem necessariamente respeitar a direção delas**.\n",
    "\n",
    "(tente adivinhar se vai imprimir True ou False antes de rodar)"
   ]
  },
  {
   "cell_type": "code",
   "execution_count": 8,
   "metadata": {},
   "outputs": [
    {
     "data": {
      "text/plain": [
       "True"
      ]
     },
     "execution_count": 8,
     "metadata": {},
     "output_type": "execute_result"
    }
   ],
   "source": [
    "nx.is_weakly_connected(dg)"
   ]
  },
  {
   "cell_type": "markdown",
   "metadata": {},
   "source": [
    "Um grafo dirigido é *fortemente conexo* se de qualquer nó você chega em qualquer outro nó andando por arestas **respeitando a direção delas**.\n",
    "\n",
    "(tente adivinhar se vai imprimir True ou False antes de rodar)"
   ]
  },
  {
   "cell_type": "code",
   "execution_count": 9,
   "metadata": {},
   "outputs": [
    {
     "data": {
      "text/plain": [
       "False"
      ]
     },
     "execution_count": 9,
     "metadata": {},
     "output_type": "execute_result"
    }
   ],
   "source": [
    "nx.is_strongly_connected(dg)"
   ]
  },
  {
   "cell_type": "markdown",
   "metadata": {},
   "source": [
    "Qualquer grafo é dividido em um ou mais \"pedaços\" conexos. Se ele for conexo, só existe um pedaço. Podemos descobrir quantos pedaços existem ou obter esses pedaços. Eles são chamados de *componentes conexas*."
   ]
  },
  {
   "cell_type": "code",
   "execution_count": 10,
   "metadata": {},
   "outputs": [
    {
     "data": {
      "text/plain": [
       "1"
      ]
     },
     "execution_count": 10,
     "metadata": {},
     "output_type": "execute_result"
    }
   ],
   "source": [
    "nx.number_connected_components(ug)"
   ]
  },
  {
   "cell_type": "code",
   "execution_count": 11,
   "metadata": {},
   "outputs": [
    {
     "data": {
      "text/plain": [
       "<generator object connected_components at 0x000002469C222138>"
      ]
     },
     "execution_count": 11,
     "metadata": {},
     "output_type": "execute_result"
    }
   ],
   "source": [
    "nx.connected_components(ug)"
   ]
  },
  {
   "cell_type": "code",
   "execution_count": 12,
   "metadata": {},
   "outputs": [
    {
     "data": {
      "text/plain": [
       "1"
      ]
     },
     "execution_count": 12,
     "metadata": {},
     "output_type": "execute_result"
    }
   ],
   "source": [
    "nx.number_weakly_connected_components(dg)"
   ]
  },
  {
   "cell_type": "code",
   "execution_count": 13,
   "metadata": {},
   "outputs": [
    {
     "data": {
      "text/plain": [
       "<generator object weakly_connected_components at 0x000002469C222480>"
      ]
     },
     "execution_count": 13,
     "metadata": {},
     "output_type": "execute_result"
    }
   ],
   "source": [
    "nx.weakly_connected_components(dg)"
   ]
  },
  {
   "cell_type": "code",
   "execution_count": 14,
   "metadata": {},
   "outputs": [
    {
     "data": {
      "text/plain": [
       "7"
      ]
     },
     "execution_count": 14,
     "metadata": {},
     "output_type": "execute_result"
    }
   ],
   "source": [
    "nx.number_strongly_connected_components(dg)"
   ]
  },
  {
   "cell_type": "code",
   "execution_count": 15,
   "metadata": {},
   "outputs": [
    {
     "data": {
      "text/plain": [
       "<generator object strongly_connected_components at 0x000002469C222840>"
      ]
     },
     "execution_count": 15,
     "metadata": {},
     "output_type": "execute_result"
    }
   ],
   "source": [
    "nx.strongly_connected_components(dg)"
   ]
  },
  {
   "cell_type": "markdown",
   "metadata": {},
   "source": [
    "Um *clique* é um conjunto de nós tal que todo mundo está conectado com todo mundo. Se faltar uma só conexão nesse grupo, não pode mais ser chamado de clique. Todo subconjunto de um clique obviamente também é um clique, então encontrar \"todos os cliques\" não é um problema muito interessante. Mais interessante é encontrar cliques **maximais**, ou seja, conjuntos \"no limite\" tais que, se você adicionar qualquer outro nó, deixa de ser clique.\n",
    "\n",
    "Atenção: maximal é diferente de máximo. Por que?"
   ]
  },
  {
   "cell_type": "code",
   "execution_count": 16,
   "metadata": {},
   "outputs": [
    {
     "data": {
      "text/plain": [
       "8"
      ]
     },
     "execution_count": 16,
     "metadata": {},
     "output_type": "execute_result"
    }
   ],
   "source": [
    "nx.graph_number_of_cliques(ug)"
   ]
  },
  {
   "cell_type": "code",
   "execution_count": 17,
   "metadata": {},
   "outputs": [
    {
     "data": {
      "text/plain": [
       "<generator object find_cliques at 0x000002469C222C00>"
      ]
     },
     "execution_count": 17,
     "metadata": {},
     "output_type": "execute_result"
    }
   ],
   "source": [
    "nx.find_cliques(ug)"
   ]
  }
 ],
 "metadata": {
  "kernelspec": {
   "display_name": "Python 3",
   "language": "python",
   "name": "python3"
  },
  "language_info": {
   "codemirror_mode": {
    "name": "ipython",
    "version": 3
   },
   "file_extension": ".py",
   "mimetype": "text/x-python",
   "name": "python",
   "nbconvert_exporter": "python",
   "pygments_lexer": "ipython3",
   "version": "3.7.1"
  }
 },
 "nbformat": 4,
 "nbformat_minor": 1
}
